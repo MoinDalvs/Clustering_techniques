{
 "cells": [
  {
   "cell_type": "code",
   "execution_count": 1,
   "id": "c57739be",
   "metadata": {},
   "outputs": [],
   "source": [
    "# Import libraries\n",
    "import scipy.cluster.hierarchy as sch\n",
    "from sklearn.cluster import AgglomerativeClustering\n",
    "import numpy as np\n",
    "import pandas as pd\n",
    "import matplotlib.pyplot as plt\n",
    "import seaborn as sns\n",
    "from sklearn.cluster import KMeans"
   ]
  },
  {
   "cell_type": "code",
   "execution_count": 2,
   "id": "15beed2a",
   "metadata": {},
   "outputs": [],
   "source": [
    "# Supressing Warnings\n",
    "import warnings\n",
    "warnings.filterwarnings('ignore')"
   ]
  },
  {
   "cell_type": "code",
   "execution_count": 3,
   "id": "cdbea2ee",
   "metadata": {},
   "outputs": [
    {
     "data": {
      "text/html": [
       "<div>\n",
       "<style scoped>\n",
       "    .dataframe tbody tr th:only-of-type {\n",
       "        vertical-align: middle;\n",
       "    }\n",
       "\n",
       "    .dataframe tbody tr th {\n",
       "        vertical-align: top;\n",
       "    }\n",
       "\n",
       "    .dataframe thead th {\n",
       "        text-align: right;\n",
       "    }\n",
       "</style>\n",
       "<table border=\"1\" class=\"dataframe\">\n",
       "  <thead>\n",
       "    <tr style=\"text-align: right;\">\n",
       "      <th></th>\n",
       "      <th>SAT</th>\n",
       "      <th>Top10</th>\n",
       "      <th>Accept</th>\n",
       "      <th>SFRatio</th>\n",
       "      <th>Expenses</th>\n",
       "      <th>GradRate</th>\n",
       "    </tr>\n",
       "    <tr>\n",
       "      <th>Univ</th>\n",
       "      <th></th>\n",
       "      <th></th>\n",
       "      <th></th>\n",
       "      <th></th>\n",
       "      <th></th>\n",
       "      <th></th>\n",
       "    </tr>\n",
       "  </thead>\n",
       "  <tbody>\n",
       "    <tr>\n",
       "      <th>Brown</th>\n",
       "      <td>1310</td>\n",
       "      <td>89</td>\n",
       "      <td>22</td>\n",
       "      <td>13</td>\n",
       "      <td>22704</td>\n",
       "      <td>94</td>\n",
       "    </tr>\n",
       "    <tr>\n",
       "      <th>CalTech</th>\n",
       "      <td>1415</td>\n",
       "      <td>100</td>\n",
       "      <td>25</td>\n",
       "      <td>6</td>\n",
       "      <td>63575</td>\n",
       "      <td>81</td>\n",
       "    </tr>\n",
       "    <tr>\n",
       "      <th>CMU</th>\n",
       "      <td>1260</td>\n",
       "      <td>62</td>\n",
       "      <td>59</td>\n",
       "      <td>9</td>\n",
       "      <td>25026</td>\n",
       "      <td>72</td>\n",
       "    </tr>\n",
       "    <tr>\n",
       "      <th>Columbia</th>\n",
       "      <td>1310</td>\n",
       "      <td>76</td>\n",
       "      <td>24</td>\n",
       "      <td>12</td>\n",
       "      <td>31510</td>\n",
       "      <td>88</td>\n",
       "    </tr>\n",
       "    <tr>\n",
       "      <th>Cornell</th>\n",
       "      <td>1280</td>\n",
       "      <td>83</td>\n",
       "      <td>33</td>\n",
       "      <td>13</td>\n",
       "      <td>21864</td>\n",
       "      <td>90</td>\n",
       "    </tr>\n",
       "    <tr>\n",
       "      <th>Dartmouth</th>\n",
       "      <td>1340</td>\n",
       "      <td>89</td>\n",
       "      <td>23</td>\n",
       "      <td>10</td>\n",
       "      <td>32162</td>\n",
       "      <td>95</td>\n",
       "    </tr>\n",
       "    <tr>\n",
       "      <th>Duke</th>\n",
       "      <td>1315</td>\n",
       "      <td>90</td>\n",
       "      <td>30</td>\n",
       "      <td>12</td>\n",
       "      <td>31585</td>\n",
       "      <td>95</td>\n",
       "    </tr>\n",
       "    <tr>\n",
       "      <th>Georgetown</th>\n",
       "      <td>1255</td>\n",
       "      <td>74</td>\n",
       "      <td>24</td>\n",
       "      <td>12</td>\n",
       "      <td>20126</td>\n",
       "      <td>92</td>\n",
       "    </tr>\n",
       "    <tr>\n",
       "      <th>Harvard</th>\n",
       "      <td>1400</td>\n",
       "      <td>91</td>\n",
       "      <td>14</td>\n",
       "      <td>11</td>\n",
       "      <td>39525</td>\n",
       "      <td>97</td>\n",
       "    </tr>\n",
       "    <tr>\n",
       "      <th>JohnsHopkins</th>\n",
       "      <td>1305</td>\n",
       "      <td>75</td>\n",
       "      <td>44</td>\n",
       "      <td>7</td>\n",
       "      <td>58691</td>\n",
       "      <td>87</td>\n",
       "    </tr>\n",
       "    <tr>\n",
       "      <th>MIT</th>\n",
       "      <td>1380</td>\n",
       "      <td>94</td>\n",
       "      <td>30</td>\n",
       "      <td>10</td>\n",
       "      <td>34870</td>\n",
       "      <td>91</td>\n",
       "    </tr>\n",
       "    <tr>\n",
       "      <th>Northwestern</th>\n",
       "      <td>1260</td>\n",
       "      <td>85</td>\n",
       "      <td>39</td>\n",
       "      <td>11</td>\n",
       "      <td>28052</td>\n",
       "      <td>89</td>\n",
       "    </tr>\n",
       "    <tr>\n",
       "      <th>NotreDame</th>\n",
       "      <td>1255</td>\n",
       "      <td>81</td>\n",
       "      <td>42</td>\n",
       "      <td>13</td>\n",
       "      <td>15122</td>\n",
       "      <td>94</td>\n",
       "    </tr>\n",
       "    <tr>\n",
       "      <th>PennState</th>\n",
       "      <td>1081</td>\n",
       "      <td>38</td>\n",
       "      <td>54</td>\n",
       "      <td>18</td>\n",
       "      <td>10185</td>\n",
       "      <td>80</td>\n",
       "    </tr>\n",
       "    <tr>\n",
       "      <th>Princeton</th>\n",
       "      <td>1375</td>\n",
       "      <td>91</td>\n",
       "      <td>14</td>\n",
       "      <td>8</td>\n",
       "      <td>30220</td>\n",
       "      <td>95</td>\n",
       "    </tr>\n",
       "    <tr>\n",
       "      <th>Purdue</th>\n",
       "      <td>1005</td>\n",
       "      <td>28</td>\n",
       "      <td>90</td>\n",
       "      <td>19</td>\n",
       "      <td>9066</td>\n",
       "      <td>69</td>\n",
       "    </tr>\n",
       "    <tr>\n",
       "      <th>Stanford</th>\n",
       "      <td>1360</td>\n",
       "      <td>90</td>\n",
       "      <td>20</td>\n",
       "      <td>12</td>\n",
       "      <td>36450</td>\n",
       "      <td>93</td>\n",
       "    </tr>\n",
       "    <tr>\n",
       "      <th>TexasA&amp;M</th>\n",
       "      <td>1075</td>\n",
       "      <td>49</td>\n",
       "      <td>67</td>\n",
       "      <td>25</td>\n",
       "      <td>8704</td>\n",
       "      <td>67</td>\n",
       "    </tr>\n",
       "    <tr>\n",
       "      <th>UCBerkeley</th>\n",
       "      <td>1240</td>\n",
       "      <td>95</td>\n",
       "      <td>40</td>\n",
       "      <td>17</td>\n",
       "      <td>15140</td>\n",
       "      <td>78</td>\n",
       "    </tr>\n",
       "    <tr>\n",
       "      <th>UChicago</th>\n",
       "      <td>1290</td>\n",
       "      <td>75</td>\n",
       "      <td>50</td>\n",
       "      <td>13</td>\n",
       "      <td>38380</td>\n",
       "      <td>87</td>\n",
       "    </tr>\n",
       "    <tr>\n",
       "      <th>UMichigan</th>\n",
       "      <td>1180</td>\n",
       "      <td>65</td>\n",
       "      <td>68</td>\n",
       "      <td>16</td>\n",
       "      <td>15470</td>\n",
       "      <td>85</td>\n",
       "    </tr>\n",
       "    <tr>\n",
       "      <th>UPenn</th>\n",
       "      <td>1285</td>\n",
       "      <td>80</td>\n",
       "      <td>36</td>\n",
       "      <td>11</td>\n",
       "      <td>27553</td>\n",
       "      <td>90</td>\n",
       "    </tr>\n",
       "    <tr>\n",
       "      <th>UVA</th>\n",
       "      <td>1225</td>\n",
       "      <td>77</td>\n",
       "      <td>44</td>\n",
       "      <td>14</td>\n",
       "      <td>13349</td>\n",
       "      <td>92</td>\n",
       "    </tr>\n",
       "    <tr>\n",
       "      <th>UWisconsin</th>\n",
       "      <td>1085</td>\n",
       "      <td>40</td>\n",
       "      <td>69</td>\n",
       "      <td>15</td>\n",
       "      <td>11857</td>\n",
       "      <td>71</td>\n",
       "    </tr>\n",
       "    <tr>\n",
       "      <th>Yale</th>\n",
       "      <td>1375</td>\n",
       "      <td>95</td>\n",
       "      <td>19</td>\n",
       "      <td>11</td>\n",
       "      <td>43514</td>\n",
       "      <td>96</td>\n",
       "    </tr>\n",
       "  </tbody>\n",
       "</table>\n",
       "</div>"
      ],
      "text/plain": [
       "               SAT  Top10  Accept  SFRatio  Expenses  GradRate\n",
       "Univ                                                          \n",
       "Brown         1310     89      22       13     22704        94\n",
       "CalTech       1415    100      25        6     63575        81\n",
       "CMU           1260     62      59        9     25026        72\n",
       "Columbia      1310     76      24       12     31510        88\n",
       "Cornell       1280     83      33       13     21864        90\n",
       "Dartmouth     1340     89      23       10     32162        95\n",
       "Duke          1315     90      30       12     31585        95\n",
       "Georgetown    1255     74      24       12     20126        92\n",
       "Harvard       1400     91      14       11     39525        97\n",
       "JohnsHopkins  1305     75      44        7     58691        87\n",
       "MIT           1380     94      30       10     34870        91\n",
       "Northwestern  1260     85      39       11     28052        89\n",
       "NotreDame     1255     81      42       13     15122        94\n",
       "PennState     1081     38      54       18     10185        80\n",
       "Princeton     1375     91      14        8     30220        95\n",
       "Purdue        1005     28      90       19      9066        69\n",
       "Stanford      1360     90      20       12     36450        93\n",
       "TexasA&M      1075     49      67       25      8704        67\n",
       "UCBerkeley    1240     95      40       17     15140        78\n",
       "UChicago      1290     75      50       13     38380        87\n",
       "UMichigan     1180     65      68       16     15470        85\n",
       "UPenn         1285     80      36       11     27553        90\n",
       "UVA           1225     77      44       14     13349        92\n",
       "UWisconsin    1085     40      69       15     11857        71\n",
       "Yale          1375     95      19       11     43514        96"
      ]
     },
     "execution_count": 3,
     "metadata": {},
     "output_type": "execute_result"
    }
   ],
   "source": [
    "df = pd.read_csv(\"Universities.csv\", index_col = 'Univ')\n",
    "df"
   ]
  },
  {
   "cell_type": "markdown",
   "id": "edf83c57",
   "metadata": {},
   "source": [
    "## Hierarchical Clustering"
   ]
  },
  {
   "cell_type": "code",
   "execution_count": 7,
   "id": "081c5551",
   "metadata": {},
   "outputs": [],
   "source": [
    "# Normalize function\n",
    "def norm_func(i):\n",
    "    x = (i-i.min())/(i.max()-i.min())\n",
    "    return (x)"
   ]
  },
  {
   "cell_type": "code",
   "execution_count": 8,
   "id": "087a0517",
   "metadata": {},
   "outputs": [
    {
     "data": {
      "text/html": [
       "<div>\n",
       "<style scoped>\n",
       "    .dataframe tbody tr th:only-of-type {\n",
       "        vertical-align: middle;\n",
       "    }\n",
       "\n",
       "    .dataframe tbody tr th {\n",
       "        vertical-align: top;\n",
       "    }\n",
       "\n",
       "    .dataframe thead th {\n",
       "        text-align: right;\n",
       "    }\n",
       "</style>\n",
       "<table border=\"1\" class=\"dataframe\">\n",
       "  <thead>\n",
       "    <tr style=\"text-align: right;\">\n",
       "      <th></th>\n",
       "      <th>SAT</th>\n",
       "      <th>Top10</th>\n",
       "      <th>Accept</th>\n",
       "      <th>SFRatio</th>\n",
       "      <th>Expenses</th>\n",
       "      <th>GradRate</th>\n",
       "    </tr>\n",
       "    <tr>\n",
       "      <th>Univ</th>\n",
       "      <th></th>\n",
       "      <th></th>\n",
       "      <th></th>\n",
       "      <th></th>\n",
       "      <th></th>\n",
       "      <th></th>\n",
       "    </tr>\n",
       "  </thead>\n",
       "  <tbody>\n",
       "    <tr>\n",
       "      <th>Brown</th>\n",
       "      <td>0.743902</td>\n",
       "      <td>0.847222</td>\n",
       "      <td>0.105263</td>\n",
       "      <td>0.368421</td>\n",
       "      <td>0.255144</td>\n",
       "      <td>0.900000</td>\n",
       "    </tr>\n",
       "    <tr>\n",
       "      <th>CalTech</th>\n",
       "      <td>1.000000</td>\n",
       "      <td>1.000000</td>\n",
       "      <td>0.144737</td>\n",
       "      <td>0.000000</td>\n",
       "      <td>1.000000</td>\n",
       "      <td>0.466667</td>\n",
       "    </tr>\n",
       "    <tr>\n",
       "      <th>CMU</th>\n",
       "      <td>0.621951</td>\n",
       "      <td>0.472222</td>\n",
       "      <td>0.592105</td>\n",
       "      <td>0.157895</td>\n",
       "      <td>0.297461</td>\n",
       "      <td>0.166667</td>\n",
       "    </tr>\n",
       "    <tr>\n",
       "      <th>Columbia</th>\n",
       "      <td>0.743902</td>\n",
       "      <td>0.666667</td>\n",
       "      <td>0.131579</td>\n",
       "      <td>0.315789</td>\n",
       "      <td>0.415629</td>\n",
       "      <td>0.700000</td>\n",
       "    </tr>\n",
       "    <tr>\n",
       "      <th>Cornell</th>\n",
       "      <td>0.670732</td>\n",
       "      <td>0.763889</td>\n",
       "      <td>0.250000</td>\n",
       "      <td>0.368421</td>\n",
       "      <td>0.239835</td>\n",
       "      <td>0.766667</td>\n",
       "    </tr>\n",
       "    <tr>\n",
       "      <th>Dartmouth</th>\n",
       "      <td>0.817073</td>\n",
       "      <td>0.847222</td>\n",
       "      <td>0.118421</td>\n",
       "      <td>0.210526</td>\n",
       "      <td>0.427512</td>\n",
       "      <td>0.933333</td>\n",
       "    </tr>\n",
       "    <tr>\n",
       "      <th>Duke</th>\n",
       "      <td>0.756098</td>\n",
       "      <td>0.861111</td>\n",
       "      <td>0.210526</td>\n",
       "      <td>0.315789</td>\n",
       "      <td>0.416996</td>\n",
       "      <td>0.933333</td>\n",
       "    </tr>\n",
       "    <tr>\n",
       "      <th>Georgetown</th>\n",
       "      <td>0.609756</td>\n",
       "      <td>0.638889</td>\n",
       "      <td>0.131579</td>\n",
       "      <td>0.315789</td>\n",
       "      <td>0.208161</td>\n",
       "      <td>0.833333</td>\n",
       "    </tr>\n",
       "    <tr>\n",
       "      <th>Harvard</th>\n",
       "      <td>0.963415</td>\n",
       "      <td>0.875000</td>\n",
       "      <td>0.000000</td>\n",
       "      <td>0.263158</td>\n",
       "      <td>0.561699</td>\n",
       "      <td>1.000000</td>\n",
       "    </tr>\n",
       "    <tr>\n",
       "      <th>JohnsHopkins</th>\n",
       "      <td>0.731707</td>\n",
       "      <td>0.652778</td>\n",
       "      <td>0.394737</td>\n",
       "      <td>0.052632</td>\n",
       "      <td>0.910991</td>\n",
       "      <td>0.666667</td>\n",
       "    </tr>\n",
       "    <tr>\n",
       "      <th>MIT</th>\n",
       "      <td>0.914634</td>\n",
       "      <td>0.916667</td>\n",
       "      <td>0.210526</td>\n",
       "      <td>0.210526</td>\n",
       "      <td>0.476864</td>\n",
       "      <td>0.800000</td>\n",
       "    </tr>\n",
       "    <tr>\n",
       "      <th>Northwestern</th>\n",
       "      <td>0.621951</td>\n",
       "      <td>0.791667</td>\n",
       "      <td>0.328947</td>\n",
       "      <td>0.263158</td>\n",
       "      <td>0.352609</td>\n",
       "      <td>0.733333</td>\n",
       "    </tr>\n",
       "    <tr>\n",
       "      <th>NotreDame</th>\n",
       "      <td>0.609756</td>\n",
       "      <td>0.736111</td>\n",
       "      <td>0.368421</td>\n",
       "      <td>0.368421</td>\n",
       "      <td>0.116965</td>\n",
       "      <td>0.900000</td>\n",
       "    </tr>\n",
       "    <tr>\n",
       "      <th>PennState</th>\n",
       "      <td>0.185366</td>\n",
       "      <td>0.138889</td>\n",
       "      <td>0.526316</td>\n",
       "      <td>0.631579</td>\n",
       "      <td>0.026991</td>\n",
       "      <td>0.433333</td>\n",
       "    </tr>\n",
       "    <tr>\n",
       "      <th>Princeton</th>\n",
       "      <td>0.902439</td>\n",
       "      <td>0.875000</td>\n",
       "      <td>0.000000</td>\n",
       "      <td>0.105263</td>\n",
       "      <td>0.392120</td>\n",
       "      <td>0.933333</td>\n",
       "    </tr>\n",
       "    <tr>\n",
       "      <th>Purdue</th>\n",
       "      <td>0.000000</td>\n",
       "      <td>0.000000</td>\n",
       "      <td>1.000000</td>\n",
       "      <td>0.684211</td>\n",
       "      <td>0.006597</td>\n",
       "      <td>0.066667</td>\n",
       "    </tr>\n",
       "    <tr>\n",
       "      <th>Stanford</th>\n",
       "      <td>0.865854</td>\n",
       "      <td>0.861111</td>\n",
       "      <td>0.078947</td>\n",
       "      <td>0.315789</td>\n",
       "      <td>0.505659</td>\n",
       "      <td>0.866667</td>\n",
       "    </tr>\n",
       "    <tr>\n",
       "      <th>TexasA&amp;M</th>\n",
       "      <td>0.170732</td>\n",
       "      <td>0.291667</td>\n",
       "      <td>0.697368</td>\n",
       "      <td>1.000000</td>\n",
       "      <td>0.000000</td>\n",
       "      <td>0.000000</td>\n",
       "    </tr>\n",
       "    <tr>\n",
       "      <th>UCBerkeley</th>\n",
       "      <td>0.573171</td>\n",
       "      <td>0.930556</td>\n",
       "      <td>0.342105</td>\n",
       "      <td>0.578947</td>\n",
       "      <td>0.117293</td>\n",
       "      <td>0.366667</td>\n",
       "    </tr>\n",
       "    <tr>\n",
       "      <th>UChicago</th>\n",
       "      <td>0.695122</td>\n",
       "      <td>0.652778</td>\n",
       "      <td>0.473684</td>\n",
       "      <td>0.368421</td>\n",
       "      <td>0.540832</td>\n",
       "      <td>0.666667</td>\n",
       "    </tr>\n",
       "    <tr>\n",
       "      <th>UMichigan</th>\n",
       "      <td>0.426829</td>\n",
       "      <td>0.513889</td>\n",
       "      <td>0.710526</td>\n",
       "      <td>0.526316</td>\n",
       "      <td>0.123307</td>\n",
       "      <td>0.600000</td>\n",
       "    </tr>\n",
       "    <tr>\n",
       "      <th>UPenn</th>\n",
       "      <td>0.682927</td>\n",
       "      <td>0.722222</td>\n",
       "      <td>0.289474</td>\n",
       "      <td>0.263158</td>\n",
       "      <td>0.343515</td>\n",
       "      <td>0.766667</td>\n",
       "    </tr>\n",
       "    <tr>\n",
       "      <th>UVA</th>\n",
       "      <td>0.536585</td>\n",
       "      <td>0.680556</td>\n",
       "      <td>0.394737</td>\n",
       "      <td>0.421053</td>\n",
       "      <td>0.084653</td>\n",
       "      <td>0.833333</td>\n",
       "    </tr>\n",
       "    <tr>\n",
       "      <th>UWisconsin</th>\n",
       "      <td>0.195122</td>\n",
       "      <td>0.166667</td>\n",
       "      <td>0.723684</td>\n",
       "      <td>0.473684</td>\n",
       "      <td>0.057462</td>\n",
       "      <td>0.133333</td>\n",
       "    </tr>\n",
       "    <tr>\n",
       "      <th>Yale</th>\n",
       "      <td>0.902439</td>\n",
       "      <td>0.930556</td>\n",
       "      <td>0.065789</td>\n",
       "      <td>0.263158</td>\n",
       "      <td>0.634397</td>\n",
       "      <td>0.966667</td>\n",
       "    </tr>\n",
       "  </tbody>\n",
       "</table>\n",
       "</div>"
      ],
      "text/plain": [
       "                   SAT     Top10    Accept   SFRatio  Expenses  GradRate\n",
       "Univ                                                                    \n",
       "Brown         0.743902  0.847222  0.105263  0.368421  0.255144  0.900000\n",
       "CalTech       1.000000  1.000000  0.144737  0.000000  1.000000  0.466667\n",
       "CMU           0.621951  0.472222  0.592105  0.157895  0.297461  0.166667\n",
       "Columbia      0.743902  0.666667  0.131579  0.315789  0.415629  0.700000\n",
       "Cornell       0.670732  0.763889  0.250000  0.368421  0.239835  0.766667\n",
       "Dartmouth     0.817073  0.847222  0.118421  0.210526  0.427512  0.933333\n",
       "Duke          0.756098  0.861111  0.210526  0.315789  0.416996  0.933333\n",
       "Georgetown    0.609756  0.638889  0.131579  0.315789  0.208161  0.833333\n",
       "Harvard       0.963415  0.875000  0.000000  0.263158  0.561699  1.000000\n",
       "JohnsHopkins  0.731707  0.652778  0.394737  0.052632  0.910991  0.666667\n",
       "MIT           0.914634  0.916667  0.210526  0.210526  0.476864  0.800000\n",
       "Northwestern  0.621951  0.791667  0.328947  0.263158  0.352609  0.733333\n",
       "NotreDame     0.609756  0.736111  0.368421  0.368421  0.116965  0.900000\n",
       "PennState     0.185366  0.138889  0.526316  0.631579  0.026991  0.433333\n",
       "Princeton     0.902439  0.875000  0.000000  0.105263  0.392120  0.933333\n",
       "Purdue        0.000000  0.000000  1.000000  0.684211  0.006597  0.066667\n",
       "Stanford      0.865854  0.861111  0.078947  0.315789  0.505659  0.866667\n",
       "TexasA&M      0.170732  0.291667  0.697368  1.000000  0.000000  0.000000\n",
       "UCBerkeley    0.573171  0.930556  0.342105  0.578947  0.117293  0.366667\n",
       "UChicago      0.695122  0.652778  0.473684  0.368421  0.540832  0.666667\n",
       "UMichigan     0.426829  0.513889  0.710526  0.526316  0.123307  0.600000\n",
       "UPenn         0.682927  0.722222  0.289474  0.263158  0.343515  0.766667\n",
       "UVA           0.536585  0.680556  0.394737  0.421053  0.084653  0.833333\n",
       "UWisconsin    0.195122  0.166667  0.723684  0.473684  0.057462  0.133333\n",
       "Yale          0.902439  0.930556  0.065789  0.263158  0.634397  0.966667"
      ]
     },
     "execution_count": 8,
     "metadata": {},
     "output_type": "execute_result"
    }
   ],
   "source": [
    "# Normalized data frame (considering the numerical part of data)\n",
    "df1 = norm_func(df)\n",
    "df1"
   ]
  },
  {
   "cell_type": "code",
   "execution_count": 17,
   "id": "75be140b",
   "metadata": {},
   "outputs": [
    {
     "data": {
      "image/png": "[encoded data removed]",
      "text/plain": [
       "<Figure size 432x288 with 1 Axes>"
      ]
     },
     "metadata": {
      "needs_background": "light"
     },
     "output_type": "display_data"
    }
   ],
   "source": [
    "# Create Dendrogram\n",
    "d = sch.dendrogram(sch.linkage(df1, method = 'single'))"
   ]
  },
  {
   "cell_type": "code",
   "execution_count": 19,
   "id": "3f960858",
   "metadata": {},
   "outputs": [
    {
     "data": {
      "image/png": "[encoded data removed]",
      "text/plain": [
       "<Figure size 432x288 with 1 Axes>"
      ]
     },
     "metadata": {
      "needs_background": "light"
     },
     "output_type": "display_data"
    }
   ],
   "source": [
    "d = sch.dendrogram(sch.linkage(df1, method = 'complete'))"
   ]
  },
  {
   "cell_type": "code",
   "execution_count": 20,
   "id": "da0cdc5c",
   "metadata": {},
   "outputs": [
    {
     "data": {
      "image/png": "[encoded data removed]",
      "text/plain": [
       "<Figure size 432x288 with 1 Axes>"
      ]
     },
     "metadata": {
      "needs_background": "light"
     },
     "output_type": "display_data"
    }
   ],
   "source": [
    "d = sch.dendrogram(sch.linkage(df1, method = 'average'))"
   ]
  },
  {
   "cell_type": "code",
   "execution_count": 21,
   "id": "e1e88757",
   "metadata": {},
   "outputs": [],
   "source": [
    "# Agglomerative Clustering"
   ]
  },
  {
   "cell_type": "code",
   "execution_count": 22,
   "id": "aa6025e6",
   "metadata": {},
   "outputs": [],
   "source": [
    "# euclidean , 'l1' , 'l2', 'manhattan', 'cosine', or 'precomputed'"
   ]
  },
  {
   "cell_type": "code",
   "execution_count": 8,
   "id": "9b765f06",
   "metadata": {},
   "outputs": [],
   "source": [
    "# create clusters\n",
    "hc =  AgglomerativeClustering(n_clusters = 5, affinity = 'euclidean', linkage = 'single')"
   ]
  },
  {
   "cell_type": "code",
   "execution_count": 9,
   "id": "a673e10e",
   "metadata": {},
   "outputs": [
    {
     "data": {
      "text/plain": [
       "array([0, 3, 4, 0, 0, 0, 0, 0, 0, 0, 0, 0, 0, 1, 0, 1, 0, 2, 0, 0, 0, 0,\n",
       "       0, 1, 0], dtype=int64)"
      ]
     },
     "execution_count": 9,
     "metadata": {},
     "output_type": "execute_result"
    }
   ],
   "source": [
    "hc.fit_predict(df1)"
   ]
  },
  {
   "cell_type": "code",
   "execution_count": 10,
   "id": "585cb61f",
   "metadata": {},
   "outputs": [],
   "source": [
    "#save clusters for chart\n",
    "y_hc = hc.fit_predict(df1)\n",
    "# clusters = pd.DataFrame(y_hc, columns = ['Clusters'])"
   ]
  },
  {
   "cell_type": "code",
   "execution_count": 11,
   "id": "fdc9381f",
   "metadata": {},
   "outputs": [],
   "source": [
    "df1['h_clusterid']=y_hc"
   ]
  },
  {
   "cell_type": "code",
   "execution_count": 12,
   "id": "41070843",
   "metadata": {},
   "outputs": [
    {
     "data": {
      "text/plain": [
       "Univ\n",
       "Brown           0\n",
       "UVA             0\n",
       "UPenn           0\n",
       "UMichigan       0\n",
       "UChicago        0\n",
       "UCBerkeley      0\n",
       "Stanford        0\n",
       "Princeton       0\n",
       "Northwestern    0\n",
       "MIT             0\n",
       "NotreDame       0\n",
       "Harvard         0\n",
       "Georgetown      0\n",
       "Duke            0\n",
       "Dartmouth       0\n",
       "Cornell         0\n",
       "Columbia        0\n",
       "JohnsHopkins    0\n",
       "Yale            0\n",
       "UWisconsin      1\n",
       "PennState       1\n",
       "Purdue          1\n",
       "TexasA&M        2\n",
       "CalTech         3\n",
       "CMU             4\n",
       "Name: h_clusterid, dtype: int64"
      ]
     },
     "execution_count": 12,
     "metadata": {},
     "output_type": "execute_result"
    }
   ],
   "source": [
    "df1.h_clusterid.sort_values()"
   ]
  },
  {
   "cell_type": "code",
   "execution_count": 4,
   "id": "2029ef37",
   "metadata": {},
   "outputs": [],
   "source": [
    "univ = pd.read_csv(\"Universities.csv\")"
   ]
  },
  {
   "cell_type": "code",
   "execution_count": null,
   "id": "d9860fe7",
   "metadata": {},
   "outputs": [],
   "source": [
    "univ['h_clusterid']=y_hc"
   ]
  },
  {
   "cell_type": "code",
   "execution_count": 17,
   "id": "1429ec22",
   "metadata": {},
   "outputs": [
    {
     "data": {
      "text/plain": [
       "h_clusterid\n",
       "0    (Brown, Columbia, Cornell, Dartmouth, Duke, Ge...\n",
       "1                      (PennState, Purdue, UWisconsin)\n",
       "2                                          (TexasA&M,)\n",
       "3                                           (CalTech,)\n",
       "4                                               (CMU,)\n",
       "Name: Univ, dtype: object"
      ]
     },
     "execution_count": 17,
     "metadata": {},
     "output_type": "execute_result"
    }
   ],
   "source": [
    "univ.groupby(['h_clusterid'])['Univ'].apply(lambda x:tuple(x))"
   ]
  },
  {
   "cell_type": "code",
   "execution_count": 23,
   "id": "573df3cf",
   "metadata": {},
   "outputs": [
    {
     "data": {
      "text/html": [
       "<div>\n",
       "<style scoped>\n",
       "    .dataframe tbody tr th:only-of-type {\n",
       "        vertical-align: middle;\n",
       "    }\n",
       "\n",
       "    .dataframe tbody tr th {\n",
       "        vertical-align: top;\n",
       "    }\n",
       "\n",
       "    .dataframe thead th {\n",
       "        text-align: right;\n",
       "    }\n",
       "</style>\n",
       "<table border=\"1\" class=\"dataframe\">\n",
       "  <thead>\n",
       "    <tr style=\"text-align: right;\">\n",
       "      <th></th>\n",
       "      <th>Univ</th>\n",
       "      <th>SAT</th>\n",
       "      <th>Top10</th>\n",
       "      <th>Accept</th>\n",
       "      <th>SFRatio</th>\n",
       "      <th>Expenses</th>\n",
       "      <th>GradRate</th>\n",
       "      <th>h_clusterid</th>\n",
       "      <th>Labels</th>\n",
       "    </tr>\n",
       "  </thead>\n",
       "  <tbody>\n",
       "    <tr>\n",
       "      <th>13</th>\n",
       "      <td>PennState</td>\n",
       "      <td>1081</td>\n",
       "      <td>38</td>\n",
       "      <td>54</td>\n",
       "      <td>18</td>\n",
       "      <td>10185</td>\n",
       "      <td>80</td>\n",
       "      <td>1</td>\n",
       "      <td>0</td>\n",
       "    </tr>\n",
       "    <tr>\n",
       "      <th>15</th>\n",
       "      <td>Purdue</td>\n",
       "      <td>1005</td>\n",
       "      <td>28</td>\n",
       "      <td>90</td>\n",
       "      <td>19</td>\n",
       "      <td>9066</td>\n",
       "      <td>69</td>\n",
       "      <td>1</td>\n",
       "      <td>0</td>\n",
       "    </tr>\n",
       "    <tr>\n",
       "      <th>23</th>\n",
       "      <td>UWisconsin</td>\n",
       "      <td>1085</td>\n",
       "      <td>40</td>\n",
       "      <td>69</td>\n",
       "      <td>15</td>\n",
       "      <td>11857</td>\n",
       "      <td>71</td>\n",
       "      <td>1</td>\n",
       "      <td>0</td>\n",
       "    </tr>\n",
       "  </tbody>\n",
       "</table>\n",
       "</div>"
      ],
      "text/plain": [
       "          Univ   SAT  Top10  Accept  SFRatio  Expenses  GradRate  h_clusterid  \\\n",
       "13   PennState  1081     38      54       18     10185        80            1   \n",
       "15      Purdue  1005     28      90       19      9066        69            1   \n",
       "23  UWisconsin  1085     40      69       15     11857        71            1   \n",
       "\n",
       "    Labels  \n",
       "13       0  \n",
       "15       0  \n",
       "23       0  "
      ]
     },
     "execution_count": 23,
     "metadata": {},
     "output_type": "execute_result"
    }
   ],
   "source": [
    "univ[univ['Univ'].isin(['PennState', 'Purdue', 'UWisconsin'])]"
   ]
  },
  {
   "cell_type": "markdown",
   "id": "b81b2f91",
   "metadata": {},
   "source": [
    "## K Means"
   ]
  },
  {
   "cell_type": "code",
   "execution_count": 9,
   "id": "1855d780",
   "metadata": {},
   "outputs": [
    {
     "data": {
      "text/plain": [
       "KMeans(n_clusters=5)"
      ]
     },
     "execution_count": 9,
     "metadata": {},
     "output_type": "execute_result"
    }
   ],
   "source": [
    "model_kmeans = KMeans(n_clusters=5)\n",
    "model_kmeans.fit(df1)"
   ]
  },
  {
   "cell_type": "code",
   "execution_count": 10,
   "id": "074d7c08",
   "metadata": {},
   "outputs": [
    {
     "data": {
      "text/plain": [
       "array([2, 4, 3, 1, 1, 2, 2, 1, 2, 4, 2, 1, 1, 0, 2, 0, 2, 0, 1, 1, 3, 1,\n",
       "       1, 0, 2])"
      ]
     },
     "execution_count": 10,
     "metadata": {},
     "output_type": "execute_result"
    }
   ],
   "source": [
    "model_kmeans.labels_"
   ]
  },
  {
   "cell_type": "code",
   "execution_count": 11,
   "id": "f15907c0",
   "metadata": {},
   "outputs": [],
   "source": [
    "md = pd.Series(model_kmeans.labels_)"
   ]
  },
  {
   "cell_type": "code",
   "execution_count": 12,
   "id": "b5d8de76",
   "metadata": {},
   "outputs": [],
   "source": [
    "# Complete-Linkage clustering - Wikipedia"
   ]
  },
  {
   "cell_type": "code",
   "execution_count": 13,
   "id": "e2a409c5",
   "metadata": {},
   "outputs": [
    {
     "data": {
      "text/html": [
       "<div>\n",
       "<style scoped>\n",
       "    .dataframe tbody tr th:only-of-type {\n",
       "        vertical-align: middle;\n",
       "    }\n",
       "\n",
       "    .dataframe tbody tr th {\n",
       "        vertical-align: top;\n",
       "    }\n",
       "\n",
       "    .dataframe thead th {\n",
       "        text-align: right;\n",
       "    }\n",
       "</style>\n",
       "<table border=\"1\" class=\"dataframe\">\n",
       "  <thead>\n",
       "    <tr style=\"text-align: right;\">\n",
       "      <th></th>\n",
       "      <th>Univ</th>\n",
       "      <th>SAT</th>\n",
       "      <th>Top10</th>\n",
       "      <th>Accept</th>\n",
       "      <th>SFRatio</th>\n",
       "      <th>Expenses</th>\n",
       "      <th>GradRate</th>\n",
       "      <th>Labels</th>\n",
       "    </tr>\n",
       "  </thead>\n",
       "  <tbody>\n",
       "    <tr>\n",
       "      <th>0</th>\n",
       "      <td>Brown</td>\n",
       "      <td>1310</td>\n",
       "      <td>89</td>\n",
       "      <td>22</td>\n",
       "      <td>13</td>\n",
       "      <td>22704</td>\n",
       "      <td>94</td>\n",
       "      <td>2</td>\n",
       "    </tr>\n",
       "    <tr>\n",
       "      <th>1</th>\n",
       "      <td>CalTech</td>\n",
       "      <td>1415</td>\n",
       "      <td>100</td>\n",
       "      <td>25</td>\n",
       "      <td>6</td>\n",
       "      <td>63575</td>\n",
       "      <td>81</td>\n",
       "      <td>4</td>\n",
       "    </tr>\n",
       "    <tr>\n",
       "      <th>2</th>\n",
       "      <td>CMU</td>\n",
       "      <td>1260</td>\n",
       "      <td>62</td>\n",
       "      <td>59</td>\n",
       "      <td>9</td>\n",
       "      <td>25026</td>\n",
       "      <td>72</td>\n",
       "      <td>3</td>\n",
       "    </tr>\n",
       "    <tr>\n",
       "      <th>3</th>\n",
       "      <td>Columbia</td>\n",
       "      <td>1310</td>\n",
       "      <td>76</td>\n",
       "      <td>24</td>\n",
       "      <td>12</td>\n",
       "      <td>31510</td>\n",
       "      <td>88</td>\n",
       "      <td>1</td>\n",
       "    </tr>\n",
       "    <tr>\n",
       "      <th>4</th>\n",
       "      <td>Cornell</td>\n",
       "      <td>1280</td>\n",
       "      <td>83</td>\n",
       "      <td>33</td>\n",
       "      <td>13</td>\n",
       "      <td>21864</td>\n",
       "      <td>90</td>\n",
       "      <td>1</td>\n",
       "    </tr>\n",
       "    <tr>\n",
       "      <th>5</th>\n",
       "      <td>Dartmouth</td>\n",
       "      <td>1340</td>\n",
       "      <td>89</td>\n",
       "      <td>23</td>\n",
       "      <td>10</td>\n",
       "      <td>32162</td>\n",
       "      <td>95</td>\n",
       "      <td>2</td>\n",
       "    </tr>\n",
       "    <tr>\n",
       "      <th>6</th>\n",
       "      <td>Duke</td>\n",
       "      <td>1315</td>\n",
       "      <td>90</td>\n",
       "      <td>30</td>\n",
       "      <td>12</td>\n",
       "      <td>31585</td>\n",
       "      <td>95</td>\n",
       "      <td>2</td>\n",
       "    </tr>\n",
       "    <tr>\n",
       "      <th>7</th>\n",
       "      <td>Georgetown</td>\n",
       "      <td>1255</td>\n",
       "      <td>74</td>\n",
       "      <td>24</td>\n",
       "      <td>12</td>\n",
       "      <td>20126</td>\n",
       "      <td>92</td>\n",
       "      <td>1</td>\n",
       "    </tr>\n",
       "    <tr>\n",
       "      <th>8</th>\n",
       "      <td>Harvard</td>\n",
       "      <td>1400</td>\n",
       "      <td>91</td>\n",
       "      <td>14</td>\n",
       "      <td>11</td>\n",
       "      <td>39525</td>\n",
       "      <td>97</td>\n",
       "      <td>2</td>\n",
       "    </tr>\n",
       "    <tr>\n",
       "      <th>9</th>\n",
       "      <td>JohnsHopkins</td>\n",
       "      <td>1305</td>\n",
       "      <td>75</td>\n",
       "      <td>44</td>\n",
       "      <td>7</td>\n",
       "      <td>58691</td>\n",
       "      <td>87</td>\n",
       "      <td>4</td>\n",
       "    </tr>\n",
       "    <tr>\n",
       "      <th>10</th>\n",
       "      <td>MIT</td>\n",
       "      <td>1380</td>\n",
       "      <td>94</td>\n",
       "      <td>30</td>\n",
       "      <td>10</td>\n",
       "      <td>34870</td>\n",
       "      <td>91</td>\n",
       "      <td>2</td>\n",
       "    </tr>\n",
       "    <tr>\n",
       "      <th>11</th>\n",
       "      <td>Northwestern</td>\n",
       "      <td>1260</td>\n",
       "      <td>85</td>\n",
       "      <td>39</td>\n",
       "      <td>11</td>\n",
       "      <td>28052</td>\n",
       "      <td>89</td>\n",
       "      <td>1</td>\n",
       "    </tr>\n",
       "    <tr>\n",
       "      <th>12</th>\n",
       "      <td>NotreDame</td>\n",
       "      <td>1255</td>\n",
       "      <td>81</td>\n",
       "      <td>42</td>\n",
       "      <td>13</td>\n",
       "      <td>15122</td>\n",
       "      <td>94</td>\n",
       "      <td>1</td>\n",
       "    </tr>\n",
       "    <tr>\n",
       "      <th>13</th>\n",
       "      <td>PennState</td>\n",
       "      <td>1081</td>\n",
       "      <td>38</td>\n",
       "      <td>54</td>\n",
       "      <td>18</td>\n",
       "      <td>10185</td>\n",
       "      <td>80</td>\n",
       "      <td>0</td>\n",
       "    </tr>\n",
       "    <tr>\n",
       "      <th>14</th>\n",
       "      <td>Princeton</td>\n",
       "      <td>1375</td>\n",
       "      <td>91</td>\n",
       "      <td>14</td>\n",
       "      <td>8</td>\n",
       "      <td>30220</td>\n",
       "      <td>95</td>\n",
       "      <td>2</td>\n",
       "    </tr>\n",
       "    <tr>\n",
       "      <th>15</th>\n",
       "      <td>Purdue</td>\n",
       "      <td>1005</td>\n",
       "      <td>28</td>\n",
       "      <td>90</td>\n",
       "      <td>19</td>\n",
       "      <td>9066</td>\n",
       "      <td>69</td>\n",
       "      <td>0</td>\n",
       "    </tr>\n",
       "    <tr>\n",
       "      <th>16</th>\n",
       "      <td>Stanford</td>\n",
       "      <td>1360</td>\n",
       "      <td>90</td>\n",
       "      <td>20</td>\n",
       "      <td>12</td>\n",
       "      <td>36450</td>\n",
       "      <td>93</td>\n",
       "      <td>2</td>\n",
       "    </tr>\n",
       "    <tr>\n",
       "      <th>17</th>\n",
       "      <td>TexasA&amp;M</td>\n",
       "      <td>1075</td>\n",
       "      <td>49</td>\n",
       "      <td>67</td>\n",
       "      <td>25</td>\n",
       "      <td>8704</td>\n",
       "      <td>67</td>\n",
       "      <td>0</td>\n",
       "    </tr>\n",
       "    <tr>\n",
       "      <th>18</th>\n",
       "      <td>UCBerkeley</td>\n",
       "      <td>1240</td>\n",
       "      <td>95</td>\n",
       "      <td>40</td>\n",
       "      <td>17</td>\n",
       "      <td>15140</td>\n",
       "      <td>78</td>\n",
       "      <td>1</td>\n",
       "    </tr>\n",
       "    <tr>\n",
       "      <th>19</th>\n",
       "      <td>UChicago</td>\n",
       "      <td>1290</td>\n",
       "      <td>75</td>\n",
       "      <td>50</td>\n",
       "      <td>13</td>\n",
       "      <td>38380</td>\n",
       "      <td>87</td>\n",
       "      <td>1</td>\n",
       "    </tr>\n",
       "    <tr>\n",
       "      <th>20</th>\n",
       "      <td>UMichigan</td>\n",
       "      <td>1180</td>\n",
       "      <td>65</td>\n",
       "      <td>68</td>\n",
       "      <td>16</td>\n",
       "      <td>15470</td>\n",
       "      <td>85</td>\n",
       "      <td>3</td>\n",
       "    </tr>\n",
       "    <tr>\n",
       "      <th>21</th>\n",
       "      <td>UPenn</td>\n",
       "      <td>1285</td>\n",
       "      <td>80</td>\n",
       "      <td>36</td>\n",
       "      <td>11</td>\n",
       "      <td>27553</td>\n",
       "      <td>90</td>\n",
       "      <td>1</td>\n",
       "    </tr>\n",
       "    <tr>\n",
       "      <th>22</th>\n",
       "      <td>UVA</td>\n",
       "      <td>1225</td>\n",
       "      <td>77</td>\n",
       "      <td>44</td>\n",
       "      <td>14</td>\n",
       "      <td>13349</td>\n",
       "      <td>92</td>\n",
       "      <td>1</td>\n",
       "    </tr>\n",
       "    <tr>\n",
       "      <th>23</th>\n",
       "      <td>UWisconsin</td>\n",
       "      <td>1085</td>\n",
       "      <td>40</td>\n",
       "      <td>69</td>\n",
       "      <td>15</td>\n",
       "      <td>11857</td>\n",
       "      <td>71</td>\n",
       "      <td>0</td>\n",
       "    </tr>\n",
       "    <tr>\n",
       "      <th>24</th>\n",
       "      <td>Yale</td>\n",
       "      <td>1375</td>\n",
       "      <td>95</td>\n",
       "      <td>19</td>\n",
       "      <td>11</td>\n",
       "      <td>43514</td>\n",
       "      <td>96</td>\n",
       "      <td>2</td>\n",
       "    </tr>\n",
       "  </tbody>\n",
       "</table>\n",
       "</div>"
      ],
      "text/plain": [
       "            Univ   SAT  Top10  Accept  SFRatio  Expenses  GradRate  Labels\n",
       "0          Brown  1310     89      22       13     22704        94       2\n",
       "1        CalTech  1415    100      25        6     63575        81       4\n",
       "2            CMU  1260     62      59        9     25026        72       3\n",
       "3       Columbia  1310     76      24       12     31510        88       1\n",
       "4        Cornell  1280     83      33       13     21864        90       1\n",
       "5      Dartmouth  1340     89      23       10     32162        95       2\n",
       "6           Duke  1315     90      30       12     31585        95       2\n",
       "7     Georgetown  1255     74      24       12     20126        92       1\n",
       "8        Harvard  1400     91      14       11     39525        97       2\n",
       "9   JohnsHopkins  1305     75      44        7     58691        87       4\n",
       "10           MIT  1380     94      30       10     34870        91       2\n",
       "11  Northwestern  1260     85      39       11     28052        89       1\n",
       "12     NotreDame  1255     81      42       13     15122        94       1\n",
       "13     PennState  1081     38      54       18     10185        80       0\n",
       "14     Princeton  1375     91      14        8     30220        95       2\n",
       "15        Purdue  1005     28      90       19      9066        69       0\n",
       "16      Stanford  1360     90      20       12     36450        93       2\n",
       "17      TexasA&M  1075     49      67       25      8704        67       0\n",
       "18    UCBerkeley  1240     95      40       17     15140        78       1\n",
       "19      UChicago  1290     75      50       13     38380        87       1\n",
       "20     UMichigan  1180     65      68       16     15470        85       3\n",
       "21         UPenn  1285     80      36       11     27553        90       1\n",
       "22           UVA  1225     77      44       14     13349        92       1\n",
       "23    UWisconsin  1085     40      69       15     11857        71       0\n",
       "24          Yale  1375     95      19       11     43514        96       2"
      ]
     },
     "execution_count": 13,
     "metadata": {},
     "output_type": "execute_result"
    }
   ],
   "source": [
    "univ['Labels'] = pd.Series(model_kmeans.labels_)\n",
    "univ"
   ]
  },
  {
   "cell_type": "code",
   "execution_count": 32,
   "id": "0fd72f70",
   "metadata": {},
   "outputs": [
    {
     "data": {
      "text/plain": [
       "Labels\n",
       "0    (Dartmouth, Duke, Harvard, MIT, Princeton, Sta...\n",
       "1            (PennState, Purdue, TexasA&M, UWisconsin)\n",
       "2                         (CMU, UCBerkeley, UMichigan)\n",
       "3    (Brown, Columbia, Cornell, Georgetown, Northwe...\n",
       "4                              (CalTech, JohnsHopkins)\n",
       "Name: Univ, dtype: object"
      ]
     },
     "execution_count": 32,
     "metadata": {},
     "output_type": "execute_result"
    }
   ],
   "source": [
    "univ.groupby(['Labels'])['Univ'].apply(lambda x:tuple(x))"
   ]
  },
  {
   "cell_type": "markdown",
   "id": "cd25e55a",
   "metadata": {},
   "source": [
    "## DBSCAN"
   ]
  },
  {
   "cell_type": "code",
   "execution_count": 5,
   "id": "3443add6",
   "metadata": {},
   "outputs": [],
   "source": [
    "from sklearn.cluster import DBSCAN\n",
    "from sklearn.preprocessing import MinMaxScaler"
   ]
  },
  {
   "cell_type": "code",
   "execution_count": 6,
   "id": "1a784d8f",
   "metadata": {},
   "outputs": [
    {
     "data": {
      "text/html": [
       "<div>\n",
       "<style scoped>\n",
       "    .dataframe tbody tr th:only-of-type {\n",
       "        vertical-align: middle;\n",
       "    }\n",
       "\n",
       "    .dataframe tbody tr th {\n",
       "        vertical-align: top;\n",
       "    }\n",
       "\n",
       "    .dataframe thead th {\n",
       "        text-align: right;\n",
       "    }\n",
       "</style>\n",
       "<table border=\"1\" class=\"dataframe\">\n",
       "  <thead>\n",
       "    <tr style=\"text-align: right;\">\n",
       "      <th></th>\n",
       "      <th>f1</th>\n",
       "      <th>f2</th>\n",
       "      <th>class</th>\n",
       "    </tr>\n",
       "  </thead>\n",
       "  <tbody>\n",
       "    <tr>\n",
       "      <th>0</th>\n",
       "      <td>1.462538</td>\n",
       "      <td>-3.865993e-01</td>\n",
       "      <td>1</td>\n",
       "    </tr>\n",
       "    <tr>\n",
       "      <th>1</th>\n",
       "      <td>0.572117</td>\n",
       "      <td>8.201723e-01</td>\n",
       "      <td>0</td>\n",
       "    </tr>\n",
       "    <tr>\n",
       "      <th>2</th>\n",
       "      <td>-1.000000</td>\n",
       "      <td>1.224647e-16</td>\n",
       "      <td>0</td>\n",
       "    </tr>\n",
       "    <tr>\n",
       "      <th>3</th>\n",
       "      <td>0.949056</td>\n",
       "      <td>3.151082e-01</td>\n",
       "      <td>0</td>\n",
       "    </tr>\n",
       "    <tr>\n",
       "      <th>4</th>\n",
       "      <td>-0.997945</td>\n",
       "      <td>6.407022e-02</td>\n",
       "      <td>0</td>\n",
       "    </tr>\n",
       "  </tbody>\n",
       "</table>\n",
       "</div>"
      ],
      "text/plain": [
       "         f1            f2  class\n",
       "0  1.462538 -3.865993e-01      1\n",
       "1  0.572117  8.201723e-01      0\n",
       "2 -1.000000  1.224647e-16      0\n",
       "3  0.949056  3.151082e-01      0\n",
       "4 -0.997945  6.407022e-02      0"
      ]
     },
     "execution_count": 6,
     "metadata": {},
     "output_type": "execute_result"
    }
   ],
   "source": [
    "from sklearn.datasets import make_moons\n",
    "x, y = make_moons(100)\n",
    "data = pd.DataFrame(x)\n",
    "data.columns=['f1','f2']\n",
    "data['class']=y\n",
    "data.head()"
   ]
  },
  {
   "cell_type": "code",
   "execution_count": 9,
   "id": "559284c6",
   "metadata": {},
   "outputs": [
    {
     "data": {
      "text/plain": [
       "<matplotlib.collections.PathCollection at 0x1ee9e635fa0>"
      ]
     },
     "execution_count": 9,
     "metadata": {},
     "output_type": "execute_result"
    },
    {
     "data": {
      "image/png": "[encoded data removed]",
      "text/plain": [
       "<Figure size 432x288 with 1 Axes>"
      ]
     },
     "metadata": {
      "needs_background": "light"
     },
     "output_type": "display_data"
    }
   ],
   "source": [
    "plt.scatter(data['f1'], data['f2'],cmap=plt.cm.Accent)"
   ]
  },
  {
   "cell_type": "code",
   "execution_count": 10,
   "id": "0ee4407a",
   "metadata": {},
   "outputs": [
    {
     "data": {
      "text/plain": [
       "<matplotlib.collections.PathCollection at 0x1ee9e978280>"
      ]
     },
     "execution_count": 10,
     "metadata": {},
     "output_type": "execute_result"
    },
    {
     "data": {
      "image/png": "[encoded data removed]",
      "text/plain": [
       "<Figure size 432x288 with 1 Axes>"
      ]
     },
     "metadata": {
      "needs_background": "light"
     },
     "output_type": "display_data"
    }
   ],
   "source": [
    "# Using Kmeans\n",
    "model = KMeans(n_clusters=2, max_iter=600, algorithm='auto')\n",
    "model.fit(data.iloc[:,:2])\n",
    "plt.scatter(data['f1'],data['f2'], c=model.labels_, cmap = plt.cm.bwr_r)"
   ]
  },
  {
   "cell_type": "code",
   "execution_count": 20,
   "id": "e16266c3",
   "metadata": {},
   "outputs": [
    {
     "data": {
      "text/plain": [
       "<matplotlib.collections.PathCollection at 0x1ee9fde4cd0>"
      ]
     },
     "execution_count": 20,
     "metadata": {},
     "output_type": "execute_result"
    },
    {
     "data": {
      "image/png": "[encoded data removed]",
      "text/plain": [
       "<Figure size 432x288 with 1 Axes>"
      ]
     },
     "metadata": {
      "needs_background": "light"
     },
     "output_type": "display_data"
    }
   ],
   "source": [
    "# Using Hierarchical\n",
    "\n",
    "cluster = AgglomerativeClustering(n_clusters=2, affinity='euclidean', linkage = 'complete')\n",
    "plt.scatter(data['f1'],data['f2'], c=cluster.fit_predict(data.iloc[:,:2]), cmap = plt.cm.bwr_r)"
   ]
  },
  {
   "cell_type": "code",
   "execution_count": 21,
   "id": "ec19abb9",
   "metadata": {},
   "outputs": [
    {
     "data": {
      "text/plain": [
       "<matplotlib.collections.PathCollection at 0x1ee9fe363a0>"
      ]
     },
     "execution_count": 21,
     "metadata": {},
     "output_type": "execute_result"
    },
    {
     "data": {
      "image/png": "[encoded data removed]",
      "text/plain": [
       "<Figure size 432x288 with 1 Axes>"
      ]
     },
     "metadata": {
      "needs_background": "light"
     },
     "output_type": "display_data"
    }
   ],
   "source": [
    "cluster = AgglomerativeClustering(n_clusters=2, affinity='euclidean', linkage = 'average')\n",
    "plt.scatter(data['f1'],data['f2'], c=cluster.fit_predict(data.iloc[:,:2]), cmap = plt.cm.bwr_r)"
   ]
  },
  {
   "cell_type": "code",
   "execution_count": 22,
   "id": "e9018ddb",
   "metadata": {},
   "outputs": [
    {
     "data": {
      "text/plain": [
       "<matplotlib.collections.PathCollection at 0x1ee9fe799a0>"
      ]
     },
     "execution_count": 22,
     "metadata": {},
     "output_type": "execute_result"
    },
    {
     "data": {
      "image/png": "[encoded data removed]",
      "text/plain": [
       "<Figure size 432x288 with 1 Axes>"
      ]
     },
     "metadata": {
      "needs_background": "light"
     },
     "output_type": "display_data"
    }
   ],
   "source": [
    "cluster = AgglomerativeClustering(n_clusters=2, affinity='euclidean', linkage = 'ward')\n",
    "plt.scatter(data['f1'],data['f2'], c=cluster.fit_predict(data.iloc[:,:2]), cmap = plt.cm.bwr_r)"
   ]
  },
  {
   "cell_type": "code",
   "execution_count": 23,
   "id": "9980683c",
   "metadata": {},
   "outputs": [
    {
     "data": {
      "text/plain": [
       "<matplotlib.collections.PathCollection at 0x1eea1313fa0>"
      ]
     },
     "execution_count": 23,
     "metadata": {},
     "output_type": "execute_result"
    },
    {
     "data": {
      "image/png": "[encoded data removed]",
      "text/plain": [
       "<Figure size 432x288 with 1 Axes>"
      ]
     },
     "metadata": {
      "needs_background": "light"
     },
     "output_type": "display_data"
    }
   ],
   "source": [
    "cluster = AgglomerativeClustering(n_clusters=2, affinity='euclidean', linkage = 'single')\n",
    "plt.scatter(data['f1'],data['f2'], c=cluster.fit_predict(data.iloc[:,:2]), cmap = plt.cm.bwr_r)"
   ]
  },
  {
   "cell_type": "code",
   "execution_count": 24,
   "id": "1efcce68",
   "metadata": {},
   "outputs": [
    {
     "data": {
      "text/plain": [
       "<matplotlib.collections.PathCollection at 0x1eea13766a0>"
      ]
     },
     "execution_count": 24,
     "metadata": {},
     "output_type": "execute_result"
    },
    {
     "data": {
      "image/png": "[encoded data removed]",
      "text/plain": [
       "<Figure size 432x288 with 1 Axes>"
      ]
     },
     "metadata": {
      "needs_background": "light"
     },
     "output_type": "display_data"
    }
   ],
   "source": [
    "# DBSCAN\n",
    "\n",
    "dbs = DBSCAN(min_samples = 2, eps =0.2)\n",
    "class_pr=dbs.fit_predict(data.iloc[:,:2])\n",
    "plt.scatter(data['f1'], data['f2'], c=class_pr, cmap=plt.cm.bwr_r)"
   ]
  },
  {
   "cell_type": "markdown",
   "id": "c5626c18",
   "metadata": {},
   "source": [
    "### finding the optimal number of clusters"
   ]
  },
  {
   "cell_type": "code",
   "execution_count": 7,
   "id": "147f02b2",
   "metadata": {},
   "outputs": [],
   "source": [
    "iris = sns.load_dataset('iris')"
   ]
  },
  {
   "cell_type": "code",
   "execution_count": 8,
   "id": "47106164",
   "metadata": {},
   "outputs": [
    {
     "data": {
      "text/html": [
       "<div>\n",
       "<style scoped>\n",
       "    .dataframe tbody tr th:only-of-type {\n",
       "        vertical-align: middle;\n",
       "    }\n",
       "\n",
       "    .dataframe tbody tr th {\n",
       "        vertical-align: top;\n",
       "    }\n",
       "\n",
       "    .dataframe thead th {\n",
       "        text-align: right;\n",
       "    }\n",
       "</style>\n",
       "<table border=\"1\" class=\"dataframe\">\n",
       "  <thead>\n",
       "    <tr style=\"text-align: right;\">\n",
       "      <th></th>\n",
       "      <th>sepal_length</th>\n",
       "      <th>sepal_width</th>\n",
       "      <th>petal_length</th>\n",
       "      <th>petal_width</th>\n",
       "      <th>species</th>\n",
       "    </tr>\n",
       "  </thead>\n",
       "  <tbody>\n",
       "    <tr>\n",
       "      <th>60</th>\n",
       "      <td>5.0</td>\n",
       "      <td>2.0</td>\n",
       "      <td>3.5</td>\n",
       "      <td>1.0</td>\n",
       "      <td>versicolor</td>\n",
       "    </tr>\n",
       "    <tr>\n",
       "      <th>15</th>\n",
       "      <td>5.7</td>\n",
       "      <td>4.4</td>\n",
       "      <td>1.5</td>\n",
       "      <td>0.4</td>\n",
       "      <td>setosa</td>\n",
       "    </tr>\n",
       "    <tr>\n",
       "      <th>20</th>\n",
       "      <td>5.4</td>\n",
       "      <td>3.4</td>\n",
       "      <td>1.7</td>\n",
       "      <td>0.2</td>\n",
       "      <td>setosa</td>\n",
       "    </tr>\n",
       "    <tr>\n",
       "      <th>48</th>\n",
       "      <td>5.3</td>\n",
       "      <td>3.7</td>\n",
       "      <td>1.5</td>\n",
       "      <td>0.2</td>\n",
       "      <td>setosa</td>\n",
       "    </tr>\n",
       "    <tr>\n",
       "      <th>106</th>\n",
       "      <td>4.9</td>\n",
       "      <td>2.5</td>\n",
       "      <td>4.5</td>\n",
       "      <td>1.7</td>\n",
       "      <td>virginica</td>\n",
       "    </tr>\n",
       "    <tr>\n",
       "      <th>86</th>\n",
       "      <td>6.7</td>\n",
       "      <td>3.1</td>\n",
       "      <td>4.7</td>\n",
       "      <td>1.5</td>\n",
       "      <td>versicolor</td>\n",
       "    </tr>\n",
       "    <tr>\n",
       "      <th>70</th>\n",
       "      <td>5.9</td>\n",
       "      <td>3.2</td>\n",
       "      <td>4.8</td>\n",
       "      <td>1.8</td>\n",
       "      <td>versicolor</td>\n",
       "    </tr>\n",
       "    <tr>\n",
       "      <th>54</th>\n",
       "      <td>6.5</td>\n",
       "      <td>2.8</td>\n",
       "      <td>4.6</td>\n",
       "      <td>1.5</td>\n",
       "      <td>versicolor</td>\n",
       "    </tr>\n",
       "    <tr>\n",
       "      <th>71</th>\n",
       "      <td>6.1</td>\n",
       "      <td>2.8</td>\n",
       "      <td>4.0</td>\n",
       "      <td>1.3</td>\n",
       "      <td>versicolor</td>\n",
       "    </tr>\n",
       "    <tr>\n",
       "      <th>28</th>\n",
       "      <td>5.2</td>\n",
       "      <td>3.4</td>\n",
       "      <td>1.4</td>\n",
       "      <td>0.2</td>\n",
       "      <td>setosa</td>\n",
       "    </tr>\n",
       "  </tbody>\n",
       "</table>\n",
       "</div>"
      ],
      "text/plain": [
       "     sepal_length  sepal_width  petal_length  petal_width     species\n",
       "60            5.0          2.0           3.5          1.0  versicolor\n",
       "15            5.7          4.4           1.5          0.4      setosa\n",
       "20            5.4          3.4           1.7          0.2      setosa\n",
       "48            5.3          3.7           1.5          0.2      setosa\n",
       "106           4.9          2.5           4.5          1.7   virginica\n",
       "86            6.7          3.1           4.7          1.5  versicolor\n",
       "70            5.9          3.2           4.8          1.8  versicolor\n",
       "54            6.5          2.8           4.6          1.5  versicolor\n",
       "71            6.1          2.8           4.0          1.3  versicolor\n",
       "28            5.2          3.4           1.4          0.2      setosa"
      ]
     },
     "execution_count": 8,
     "metadata": {},
     "output_type": "execute_result"
    }
   ],
   "source": [
    "iris.sample(10)"
   ]
  },
  {
   "cell_type": "code",
   "execution_count": 17,
   "id": "60292a44",
   "metadata": {},
   "outputs": [],
   "source": [
    "nc = [2,3,4,5,6,7,8,9]\n",
    "iner = []\n",
    "for i in nc:\n",
    "    km = KMeans(i)\n",
    "    km.fit(iris.iloc[:,:4])\n",
    "    iner.append(km.inertia_)"
   ]
  },
  {
   "cell_type": "code",
   "execution_count": 18,
   "id": "368f9c1f",
   "metadata": {},
   "outputs": [
    {
     "data": {
      "image/png": "[encoded data removed]",
      "text/plain": [
       "<Figure size 432x288 with 1 Axes>"
      ]
     },
     "metadata": {
      "needs_background": "light"
     },
     "output_type": "display_data"
    }
   ],
   "source": [
    "plt.plot(nc,iner,color = 'black')\n",
    "plt.scatter(nc,iner,color='red')\n",
    "plt.show()"
   ]
  },
  {
   "cell_type": "markdown",
   "id": "c556e99d",
   "metadata": {},
   "source": [
    "### Silhoutte Score"
   ]
  },
  {
   "cell_type": "code",
   "execution_count": 9,
   "id": "4fbd3124",
   "metadata": {},
   "outputs": [],
   "source": [
    "from sklearn.metrics import silhouette_score as sil"
   ]
  },
  {
   "cell_type": "code",
   "execution_count": 13,
   "id": "22250c68",
   "metadata": {},
   "outputs": [],
   "source": [
    "nc = [2,3,4,5,6,7,8,9]\n",
    "sc_score = []\n",
    "for i in nc:\n",
    "    km = KMeans(i)\n",
    "    y=km.fit_predict(iris.iloc[:,:4])\n",
    "    sc_score.append(sil(iris.iloc[:,:4], y))"
   ]
  },
  {
   "cell_type": "code",
   "execution_count": 14,
   "id": "f29c6fb0",
   "metadata": {},
   "outputs": [
    {
     "data": {
      "image/png": "[encoded data removed]",
      "text/plain": [
       "<Figure size 432x288 with 1 Axes>"
      ]
     },
     "metadata": {
      "needs_background": "light"
     },
     "output_type": "display_data"
    }
   ],
   "source": [
    "plt.plot(nc,sc_score,color = 'black')\n",
    "plt.scatter(nc,sc_score,color='red')\n",
    "plt.show()"
   ]
  },
  {
   "cell_type": "markdown",
   "id": "bc2f7f4b",
   "metadata": {},
   "source": [
    "## Calinski harabaz score"
   ]
  },
  {
   "cell_type": "code",
   "execution_count": 16,
   "id": "9c50c1e9",
   "metadata": {},
   "outputs": [],
   "source": [
    "from sklearn.metrics import calinski_harabasz_score as chs"
   ]
  },
  {
   "cell_type": "code",
   "execution_count": 17,
   "id": "78662b3d",
   "metadata": {},
   "outputs": [],
   "source": [
    "nc = [2,3,4,5,6,7,8,9]\n",
    "chs_score = []\n",
    "for i in nc:\n",
    "    km = KMeans(i)\n",
    "    y=km.fit_predict(iris.iloc[:,:4])\n",
    "    chs_score.append(chs(iris.iloc[:,:4], y))"
   ]
  },
  {
   "cell_type": "code",
   "execution_count": 18,
   "id": "de1aef31",
   "metadata": {},
   "outputs": [
    {
     "data": {
      "image/png": "[encoded data removed]",
      "text/plain": [
       "<Figure size 432x288 with 1 Axes>"
      ]
     },
     "metadata": {
      "needs_background": "light"
     },
     "output_type": "display_data"
    }
   ],
   "source": [
    "plt.plot(nc,chs_score,color = 'black')\n",
    "plt.scatter(nc,chs_score,color='red')\n",
    "plt.show()"
   ]
  },
  {
   "cell_type": "code",
   "execution_count": null,
   "id": "ffe2f004",
   "metadata": {},
   "outputs": [],
   "source": []
  }
 ],
 "metadata": {
  "kernelspec": {
   "display_name": "Python 3 (ipykernel)",
   "language": "python",
   "name": "python3"
  },
  "language_info": {
   "codemirror_mode": {
    "name": "ipython",
    "version": 3
   },
   "file_extension": ".py",
   "mimetype": "text/x-python",
   "name": "python",
   "nbconvert_exporter": "python",
   "pygments_lexer": "ipython3",
   "version": "3.9.7"
  }
 },
 "nbformat": 4,
 "nbformat_minor": 5
}
